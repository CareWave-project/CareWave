{
  "nbformat": 4,
  "nbformat_minor": 0,
  "metadata": {
    "colab": {
      "provenance": []
    },
    "kernelspec": {
      "name": "python3",
      "display_name": "Python 3"
    },
    "language_info": {
      "name": "python"
    }
  },
  "cells": [
    {
      "cell_type": "code",
      "source": [
        "import pandas as pd\n",
        "from tensorflow import keras\n",
        "from sklearn.preprocessing import StandardScaler\n",
        "import pickle\n",
        "\n",
        "# Load the saved model\n",
        "model = keras.models.load_model('my_health_model.keras')\n",
        "\n",
        "# Load the standard scaler (assuming you saved it along with the model)\n",
        "with open('scaler.pkl', 'rb') as f:\n",
        "    scaler = pickle.load(f)\n",
        "\n",
        "# Load the sample CSV file\n",
        "sample_data = pd.read_csv('sample_data.csv')\n",
        "\n",
        "# Extract features and split blood pressure\n",
        "sample_data[['Systolic', 'Diastolic']] = sample_data['Blood Pressure'].str.split('/', expand=True)\n",
        "sample_data[['Systolic', 'Diastolic']] = sample_data[['Systolic', 'Diastolic']].apply(pd.to_numeric)\n",
        "sample_X = sample_data.drop(['Blood Pressure', 'Anomaly'], axis=1)\n",
        "\n",
        "# Preprocess the data using the same scaler\n",
        "sample_X_scaled = scaler.transform(sample_X)\n",
        "\n",
        "# Get predictions from the model\n",
        "predictions = model.predict(sample_X_scaled)\n",
        "predictions = (predictions > 0.5).astype(int)\n",
        "\n",
        "# Output the predictions\n",
        "for i in range(len(predictions)):\n",
        "    if predictions[i] == 0:\n",
        "        print(f'Sample {i+1}: Normal')\n",
        "    else:\n",
        "        print(f'Sample {i+1}: Anomaly')\n"
      ],
      "metadata": {
        "colab": {
          "base_uri": "https://localhost:8080/"
        },
        "id": "xvTvqE0vNENt",
        "outputId": "5ab2658e-94aa-44f0-b296-03bdecfa72f9"
      },
      "execution_count": 5,
      "outputs": [
        {
          "output_type": "stream",
          "name": "stdout",
          "text": [
            "1/1 [==============================] - 0s 55ms/step\n",
            "Sample 1: Normal\n",
            "Sample 2: Normal\n",
            "Sample 3: Normal\n",
            "Sample 4: Normal\n",
            "Sample 5: Normal\n",
            "Sample 6: Normal\n",
            "Sample 7: Normal\n",
            "Sample 8: Normal\n",
            "Sample 9: Normal\n",
            "Sample 10: Normal\n",
            "Sample 11: Anomaly\n",
            "Sample 12: Anomaly\n"
          ]
        }
      ]
    }
  ]
}