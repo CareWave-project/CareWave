{
  "nbformat": 4,
  "nbformat_minor": 0,
  "metadata": {
    "colab": {
      "provenance": []
    },
    "kernelspec": {
      "name": "python3",
      "display_name": "Python 3"
    },
    "language_info": {
      "name": "python"
    }
  },
  "cells": [
    {
      "cell_type": "code",
      "source": [
        "import pandas as pd\n",
        "from tensorflow import keras\n",
        "from sklearn.preprocessing import StandardScaler\n",
        "import pickle\n",
        "\n",
        "# Load the saved model\n",
        "model = keras.models.load_model('my_health_model.keras')\n",
        "\n",
        "# Load the standard scaler (assuming you saved it along with the model)\n",
        "with open('scaler.pkl', 'rb') as f:\n",
        "    scaler = pickle.load(f)\n",
        "\n",
        "# Load the sample CSV file\n",
        "sample_data = pd.read_csv('sample_data.csv')\n",
        "\n",
        "# Extract features and split blood pressure\n",
        "sample_data[['Systolic', 'Diastolic']] = sample_data['Blood Pressure'].str.split('/', expand=True)\n",
        "sample_data[['Systolic', 'Diastolic']] = sample_data[['Systolic', 'Diastolic']].apply(pd.to_numeric)\n",
        "sample_X = sample_data.drop(['Blood Pressure', 'Anomaly'], axis=1)\n",
        "\n",
        "# Preprocess the data using the same scaler\n",
        "sample_X_scaled = scaler.transform(sample_X)\n",
        "\n",
        "# Get predictions from the model\n",
        "predictions = model.predict(sample_X_scaled)\n",
        "predictions = (predictions > 0.5).astype(int)\n",
        "\n",
        "# Output the predictions\n",
        "for i in range(len(predictions)):\n",
        "    if predictions[i] == 0:\n",
        "        print(f'Sample {i+1}: Normal')\n",
        "    else:\n",
        "        print(f'Sample {i+1}: Anomaly')\n"
      ],
      "metadata": {
        "colab": {
          "base_uri": "https://localhost:8080/"
        },
        "id": "xvTvqE0vNENt",
        "outputId": "f437cd53-96bc-4c0a-c132-85ac67166b13"
      },
      "execution_count": null,
      "outputs": [
        {
          "output_type": "stream",
          "name": "stdout",
          "text": [
            "2/2 [==============================] - 0s 9ms/step\n",
            "Sample 1: Normal\n",
            "Sample 2: Normal\n",
            "Sample 3: Normal\n",
            "Sample 4: Anomaly\n",
            "Sample 5: Normal\n",
            "Sample 6: Normal\n",
            "Sample 7: Normal\n",
            "Sample 8: Normal\n",
            "Sample 9: Normal\n",
            "Sample 10: Anomaly\n",
            "Sample 11: Normal\n",
            "Sample 12: Anomaly\n",
            "Sample 13: Normal\n",
            "Sample 14: Normal\n",
            "Sample 15: Anomaly\n",
            "Sample 16: Anomaly\n",
            "Sample 17: Normal\n",
            "Sample 18: Normal\n",
            "Sample 19: Anomaly\n",
            "Sample 20: Anomaly\n",
            "Sample 21: Normal\n",
            "Sample 22: Anomaly\n",
            "Sample 23: Normal\n",
            "Sample 24: Anomaly\n",
            "Sample 25: Anomaly\n",
            "Sample 26: Anomaly\n",
            "Sample 27: Anomaly\n",
            "Sample 28: Anomaly\n",
            "Sample 29: Anomaly\n",
            "Sample 30: Anomaly\n",
            "Sample 31: Anomaly\n",
            "Sample 32: Anomaly\n",
            "Sample 33: Anomaly\n",
            "Sample 34: Anomaly\n",
            "Sample 35: Anomaly\n",
            "Sample 36: Anomaly\n",
            "Sample 37: Anomaly\n",
            "Sample 38: Anomaly\n",
            "Sample 39: Anomaly\n",
            "Sample 40: Anomaly\n",
            "Sample 41: Anomaly\n",
            "Sample 42: Anomaly\n",
            "Sample 43: Normal\n",
            "Sample 44: Anomaly\n",
            "Sample 45: Anomaly\n",
            "Sample 46: Anomaly\n",
            "Sample 47: Normal\n",
            "Sample 48: Anomaly\n",
            "Sample 49: Anomaly\n",
            "Sample 50: Anomaly\n",
            "Sample 51: Anomaly\n",
            "Sample 52: Anomaly\n",
            "Sample 53: Anomaly\n",
            "Sample 54: Normal\n",
            "Sample 55: Normal\n",
            "Sample 56: Anomaly\n",
            "Sample 57: Anomaly\n",
            "Sample 58: Anomaly\n",
            "Sample 59: Anomaly\n",
            "Sample 60: Anomaly\n",
            "Sample 61: Anomaly\n",
            "Sample 62: Normal\n",
            "Sample 63: Anomaly\n"
          ]
        }
      ]
    }
  ]
}